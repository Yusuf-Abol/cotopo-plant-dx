{
 "cells": [
  {
   "cell_type": "code",
   "execution_count": 1,
   "id": "72f47ffc",
   "metadata": {},
   "outputs": [],
   "source": [
    "import os\n",
    "import shutil\n",
    "import random\n",
    "import pandas as pd"
   ]
  },
  {
   "cell_type": "code",
   "execution_count": 3,
   "id": "a8f44158",
   "metadata": {},
   "outputs": [],
   "source": [
    "# Paths\n",
    "source_dir = \"C:/Users/DELL/Desktop/Computer_Vision_Projects/cotopo_plant_dx/data/raw\"   # your raw dataset (one folder per class)\n",
    "target_dir = \"C:/Users/DELL/Desktop/Computer_Vision_Projects/cotopo_plant_dx/data/processed\"  # output dataset with train/ and test/\n",
    "train_split = 0.8  # 80% train, 20% test\n",
    "\n",
    "os.makedirs(os.path.join(target_dir, \"train\"), exist_ok=True)\n",
    "os.makedirs(os.path.join(target_dir, \"test\"), exist_ok=True)"
   ]
  },
  {
   "cell_type": "code",
   "execution_count": 4,
   "id": "a3133022",
   "metadata": {},
   "outputs": [],
   "source": [
    "records = []\n",
    "\n",
    "for class_name in os.listdir(source_dir):\n",
    "    class_path = os.path.join(source_dir, class_name)\n",
    "    if not os.path.isdir(class_path):\n",
    "        continue\n",
    "    \n",
    "    # Split into crop + disease\n",
    "    if \"_\" in class_name:\n",
    "        crop, disease = class_name.split(\"___\", 1)\n",
    "    else:\n",
    "        crop, disease = class_name, \"Unknown\"\n",
    "    \n",
    "    os.makedirs(os.path.join(target_dir, \"train\", class_name), exist_ok=True)\n",
    "    os.makedirs(os.path.join(target_dir, \"test\", class_name), exist_ok=True)\n",
    "    \n",
    "    images = os.listdir(class_path)\n",
    "    random.shuffle(images)\n",
    "    \n",
    "    split_idx = int(len(images) * train_split)\n",
    "    train_imgs = images[:split_idx]\n",
    "    test_imgs = images[split_idx:]\n",
    "    \n",
    "    for img in train_imgs:\n",
    "        src = os.path.join(class_path, img)\n",
    "        dst = os.path.join(target_dir, \"train\", class_name, img)\n",
    "        shutil.copy(src, dst)\n",
    "        records.append([f\"train/{class_name}/{img}\", crop, disease, class_name])\n",
    "    \n",
    "    for img in test_imgs:\n",
    "        src = os.path.join(class_path, img)\n",
    "        dst = os.path.join(target_dir, \"test\", class_name, img)\n",
    "        shutil.copy(src, dst)\n",
    "        records.append([f\"test/{class_name}/{img}\", crop, disease, class_name])\n",
    "\n",
    "# Convert to DataFrame\n",
    "df = pd.DataFrame(records, columns=[\"image_path\", \"crop\", \"disease\", \"full_label\"])\n",
    "\n",
    "# Assign numeric IDs\n",
    "df[\"label_id\"] = df[\"full_label\"].astype(\"category\").cat.codes"
   ]
  },
  {
   "cell_type": "code",
   "execution_count": null,
   "id": "0a70d734",
   "metadata": {},
   "outputs": [],
   "source": [
    "# Save CSV\n",
    "df.to_csv(os.path.join(target_dir, \"labels.csv\"), index=False)\n",
    "\n",
    "print(\"Train/Test split done\")\n",
    "print(\"labels.csv saved with numeric label_id\")\n"
   ]
  },
  {
   "cell_type": "code",
   "execution_count": null,
   "id": "f92ac7e3",
   "metadata": {},
   "outputs": [],
   "source": []
  }
 ],
 "metadata": {
  "kernelspec": {
   "display_name": "tubato_env",
   "language": "python",
   "name": "python3"
  },
  "language_info": {
   "codemirror_mode": {
    "name": "ipython",
    "version": 3
   },
   "file_extension": ".py",
   "mimetype": "text/x-python",
   "name": "python",
   "nbconvert_exporter": "python",
   "pygments_lexer": "ipython3",
   "version": "3.11.13"
  }
 },
 "nbformat": 4,
 "nbformat_minor": 5
}
